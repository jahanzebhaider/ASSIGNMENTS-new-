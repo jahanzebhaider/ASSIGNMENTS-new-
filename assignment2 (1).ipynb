{
 "cells": [
  {
   "cell_type": "code",
   "execution_count": 12,
   "metadata": {},
   "outputs": [
    {
     "name": "stdout",
     "output_type": "stream",
     "text": [
      "enter an integer5\n",
      "the entred number id odd\n"
     ]
    }
   ],
   "source": [
    "#Q2.Write a program which take input from user and identify that the given number is even or odd?\n",
    "\n",
    "a=int(input(\"enter an integer\"))\n",
    "if (a%2==0):\n",
    "    print(\"the entred number is even\")\n",
    "else:\n",
    "    print(\"the entred number id odd\")"
   ]
  },
  {
   "cell_type": "code",
   "execution_count": 2,
   "metadata": {},
   "outputs": [
    {
     "name": "stdout",
     "output_type": "stream",
     "text": [
      "enter math marks45\n",
      "enter urdu marks56\n",
      "enter english marks34\n",
      "enter pst marks32\n",
      "enter islamiat marks78\n",
      "your percentaile is  49.0\n",
      "grade F\n"
     ]
    }
   ],
   "source": [
    "#Q1.Write a program which takes 5 inputs from user for different subject’s marks, total it and generate mark sheet using grades ?\n",
    "\n",
    "\n",
    "a=int(input(\"enter math marks\"))\n",
    "b=int(input(\"enter urdu marks\"))\n",
    "c=int(input(\"enter english marks\"))\n",
    "d=int(input(\"enter pst marks\"))\n",
    "e=int(input(\"enter islamiat marks\"))\n",
    "z=(((a+b+c+d+e)/500)*100)\n",
    "print(\"your percentaile is \",z)\n",
    "if z>80 and z<99:\n",
    "    print(\"grade A\")\n",
    "elif z>=70 and z<=79  :\n",
    "    print(\"grade B\")\n",
    "elif z>=60 and z<69  :\n",
    "    print(\" grade C\")\n",
    "else :\n",
    "    print(\"grade F\")"
   ]
  },
  {
   "cell_type": "code",
   "execution_count": 6,
   "metadata": {},
   "outputs": [
    {
     "name": "stdout",
     "output_type": "stream",
     "text": [
      "MAX ELEMENT IN of LIST is  56\n"
     ]
    }
   ],
   "source": [
    "#Q5.Write a Python program to get the largest number from a numeric list.\n",
    "\n",
    "list=[ \"23\",\"34\",\"56\",\"45\"]\n",
    "print(\"MAX ELEMENT IN of LIST is \",max(list))"
   ]
  },
  {
   "cell_type": "code",
   "execution_count": 4,
   "metadata": {},
   "outputs": [
    {
     "name": "stdout",
     "output_type": "stream",
     "text": [
      "length of LIST is  158\n"
     ]
    }
   ],
   "source": [
    "#Q4.Write a Python program to sum all the numeric items in a list?\n",
    "list=[ 23,34,56,45]\n",
    "print(\"length of LIST is \",sum(list))"
   ]
  },
  {
   "cell_type": "code",
   "execution_count": 11,
   "metadata": {},
   "outputs": [
    {
     "name": "stdout",
     "output_type": "stream",
     "text": [
      "1\n",
      "2\n",
      "3\n",
      "4\n",
      "5\n"
     ]
    }
   ],
   "source": [
    "#Q6.write a program that prints out all the elements of the list that are less than 5.\n",
    "\n",
    "a = [33, 1, 2, 3,4, 5, 8, 13, 21, 34, 55, 89]\n",
    "\n",
    "for i in range(listlength):\n",
    "    if a[i]<=5:\n",
    "        print(a[i])\n"
   ]
  },
  {
   "cell_type": "code",
   "execution_count": 10,
   "metadata": {},
   "outputs": [
    {
     "name": "stdout",
     "output_type": "stream",
     "text": [
      "Total Number of number in List :  12 \n",
      " -----------------------------\n"
     ]
    }
   ],
   "source": [
    "#Q3.Write a program which print the length of the list?\n",
    "a = [33, 1, 2, 3,4, 5, 8, 13, 21, 34, 55, 89]\n",
    "listlength = int(len(a))\n",
    "print(\"Total Number of number in List : \",listlength,  \"\\n -----------------------------\")"
   ]
  },
  {
   "cell_type": "code",
   "execution_count": null,
   "metadata": {},
   "outputs": [],
   "source": []
  }
 ],
 "metadata": {
  "kernelspec": {
   "display_name": "Python 3",
   "language": "python",
   "name": "python3"
  },
  "language_info": {
   "codemirror_mode": {
    "name": "ipython",
    "version": 3
   },
   "file_extension": ".py",
   "mimetype": "text/x-python",
   "name": "python",
   "nbconvert_exporter": "python",
   "pygments_lexer": "ipython3",
   "version": "3.7.4"
  }
 },
 "nbformat": 4,
 "nbformat_minor": 2
}
