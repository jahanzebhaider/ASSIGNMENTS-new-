{
 "cells": [
  {
   "cell_type": "code",
   "execution_count": null,
   "metadata": {},
   "outputs": [],
   "source": [
    "Object-oriented programming (OOP) refers to a type of computer programming (software design) \n",
    "in which programmers define the data type of a data structure, and also the types of\n",
    "operations (functions) that can be applied to the data structure.\n",
    "In this way, the data structure becomes an object that includes both data and functions.\n",
    "In addition, programmers can create relationships between one object and another. For example,\n",
    "objects can inherit characteristics from other objects."
   ]
  },
  {
   "cell_type": "code",
   "execution_count": null,
   "metadata": {},
   "outputs": [],
   "source": [
    "#LIST DOWN THE BENEFITS OF OOP\n",
    "\n",
    "1-Re-usability. It means reusing some facilities rather than building it again and again.\n",
    "2-Data Redundancy. \n",
    "3-Code Maintenance. \n",
    "4-Security. ...\n",
    "5-Design Benefits. \n",
    "6-Better productivity. \n",
    "7-Easy troubleshooting. \n",
    "8-Polymorphism Flexibility"
   ]
  },
  {
   "cell_type": "code",
   "execution_count": null,
   "metadata": {},
   "outputs": [],
   "source": [
    "#DIFFERENCE BETWEEN FUNCTION AND METHOD\n",
    "\n",
    "FUNCTION:\n",
    "A Function is a piece of code that is called by name. It can be passed data to operate on\n",
    "(i.e. the parameters) and can optionally return data (the return value).\n",
    "All data that is passed to a function is explicitly passed.\n",
    "METHOD:\n",
    "A method is a piece of code that is called by a name that is associated with an object.\n",
    "In most respects it is identical to a function except for two key differences:\n",
    "A method is implicitly passed the object on which it was called.\n",
    "A method is able to operate on data that is contained within the class\n",
    "(remembering that an object is an instance of a class - the class is the definition, \n",
    "the object is an instance of that data)."
   ]
  },
  {
   "cell_type": "code",
   "execution_count": null,
   "metadata": {},
   "outputs": [],
   "source": [
    "#DEFFINITION\n",
    "\n",
    "1-CLASS:Class is the blue print from which individual object are created.\n",
    "\n",
    "2-OBJECT:Instance of class is called Object\n",
    "\n",
    "3-BEHAVIOUR:The behavior of an object is defined by its methods, which are the functions and \n",
    "subroutines defined within the object class. ... Methods determine what type of functionality \n",
    "a class has, how it modifies its data, and its overall behavior.\n",
    "\n",
    "4-ATTRIBUTE:An attribute is defined as a quality or characteristic of a person, place, or thing. \n",
    "Real life individuals and fictional characters possess various attributes."
   ]
  },
  {
   "cell_type": "code",
   "execution_count": null,
   "metadata": {},
   "outputs": [],
   "source": [
    "class Car:\n",
    "    def __init__(self, name, brand, model, color, doors):\n",
    "        self.name = name\n",
    "        self.brand = brand\n",
    "        self.model = model\n",
    "        self.color = color\n",
    "        self.doors = doors\n",
    "    def printCar(self):\n",
    "        print(self.name, self.brand, self.model, self.color,self.doors)\n",
    "    def drive(self):\n",
    "        print(self.name,\"is now being driven\")\n",
    "    def stop(self):\n",
    "        print(self.name,\"is stopped\")\n",
    "        \n",
    "car1 = Car(\"Mehran\", \"Suzuki\", \"2009\", \"White\", 4)\n",
    "car2 = Car(\"Lamborghini\", \"Lambo\", \"2010\", \"Blue\", 2)\n",
    "car3 = Car(\"Fe22\", \"Ferrari\", \"2011\", \"Green\", 4)\n",
    "car4 = Car(\"Corolla\", \"Toyota\", \"2012\", \"Red\", 2)\n",
    "car5 = Car(\"Vitz\", \"Honda\", \"2019\", \"Gray\", 4)\n",
    "car2.printCar()\n",
    "car5.stop()\n",
    "car3.drive()"
   ]
  }
 ],
 "metadata": {
  "kernelspec": {
   "display_name": "Python 3",
   "language": "python",
   "name": "python3"
  },
  "language_info": {
   "codemirror_mode": {
    "name": "ipython",
    "version": 3
   },
   "file_extension": ".py",
   "mimetype": "text/x-python",
   "name": "python",
   "nbconvert_exporter": "python",
   "pygments_lexer": "ipython3",
   "version": "3.7.4"
  }
 },
 "nbformat": 4,
 "nbformat_minor": 2
}
